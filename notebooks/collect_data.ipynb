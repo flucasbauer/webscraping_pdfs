{
 "cells": [
  {
   "cell_type": "markdown",
   "id": "5c779562",
   "metadata": {},
   "source": [
    "## 1 Bibliotecas"
   ]
  },
  {
   "cell_type": "code",
   "execution_count": 1,
   "id": "e16c1d4a-11da-410f-b589-b4371304638f",
   "metadata": {},
   "outputs": [],
   "source": [
    "from selenium import webdriver\n",
    "from selenium.webdriver.common.by import By\n",
    "from selenium.webdriver.support.ui import Select\n",
    "import time\n",
    "from selenium import webdriver\n",
    "from selenium.webdriver.chrome.service import Service\n",
    "from selenium.webdriver.support.ui import WebDriverWait\n",
    "from selenium.webdriver.support import expected_conditions as EC\n",
    "from selenium.webdriver.common.keys import Keys\n",
    "import base64\n",
    "import sys\n",
    "import os\n",
    "from twocaptcha import TwoCaptcha\n",
    "from selenium.common.exceptions import TimeoutException"
   ]
  },
  {
   "cell_type": "markdown",
   "id": "16c6fadc",
   "metadata": {},
   "source": [
    "## 2 Declarando Parâmetros"
   ]
  },
  {
   "cell_type": "code",
   "execution_count": 2,
   "id": "fab15229-f8d3-4929-accd-22ee2fbf88f2",
   "metadata": {},
   "outputs": [],
   "source": [
    "# Defina o caminho correto para o ChromeDriver (não o Chrome .lnk)\n",
    "chrome_driver_path = r'C:\\Users\\fluca\\Desktop\\dev\\chromedriver-win32\\chromedriver.exe'"
   ]
  },
  {
   "cell_type": "code",
   "execution_count": 3,
   "id": "46375fbd-4f5b-4b74-92af-8af22afe2e8f",
   "metadata": {},
   "outputs": [],
   "source": [
    "# Inicializando o serviço do ChromeDriver\n",
    "service = Service(executable_path=chrome_driver_path)"
   ]
  },
  {
   "cell_type": "code",
   "execution_count": 12,
   "id": "1c1525da-8235-4b71-aabf-632a455e7b16",
   "metadata": {},
   "outputs": [],
   "source": [
    "# Inicializando o navegador Chrome com o serviço\n",
    "driver = webdriver.Chrome(service=service)"
   ]
  },
  {
   "cell_type": "code",
   "execution_count": null,
   "id": "c3dd8aef-db59-4769-ba81-5f1f3910e380",
   "metadata": {},
   "outputs": [],
   "source": [
    "# Navega para o site\n",
    "driver.get('http://www.sga.pr.gov.br/sga-iap/consultarProcessoLicenciamento.do?action=iniciar#')"
   ]
  },
  {
   "cell_type": "code",
   "execution_count": 13,
   "id": "61f016c6-9b65-4449-9785-224a4ecc0238",
   "metadata": {},
   "outputs": [],
   "source": [
    "# Chave da API 2Captcha\n",
    "api_key = 'eb6dc8fd6566313857572a8dbd744b49'"
   ]
  },
  {
   "cell_type": "code",
   "execution_count": 14,
   "id": "8be73e99-2576-4ed3-8924-0dedc5688ee6",
   "metadata": {},
   "outputs": [],
   "source": [
    "solver = TwoCaptcha(api_key)"
   ]
  },
  {
   "cell_type": "markdown",
   "id": "e4137673-a30f-4eec-8345-bfd91a99f096",
   "metadata": {
    "jp-MarkdownHeadingCollapsed": true,
    "tags": []
   },
   "source": [
    "## 3 Funções"
   ]
  },
  {
   "cell_type": "code",
   "execution_count": 4,
   "id": "06a7aac6-068a-4aeb-9cbd-072adf82a802",
   "metadata": {},
   "outputs": [],
   "source": [
    "# Caminho da pasta onde os CAPTCHAs serão salvos\n",
    "captcha_dir = r\"C:\\Users\\fluca\\Desktop\\Data Science\\Projetos\\webscraping_inst_agua_e_terra_pr\\downloads_captchas\"\n",
    "\n",
    "# Configurações da API do 2Captcha\n",
    "api_key = 'eb6dc8fd6566313857572a8dbd744b49'\n",
    "solver = TwoCaptcha(api_key)"
   ]
  },
  {
   "cell_type": "code",
   "execution_count": 5,
   "id": "fb5334b4-e329-47a0-a856-cc0be307aef1",
   "metadata": {},
   "outputs": [],
   "source": [
    "# Função para inicializar o navegador e acessar o site\n",
    "def inicializar_navegador(url):\n",
    "    driver = webdriver.Chrome(service=service)\n",
    "    driver.get(url)\n",
    "    print(f\"Carregou o site: {url}\")\n",
    "    return driver"
   ]
  },
  {
   "cell_type": "code",
   "execution_count": 6,
   "id": "67ed5568-7c9a-41e4-a5b6-a2a5ea3b8219",
   "metadata": {},
   "outputs": [],
   "source": [
    "# Função para clicar no botão \"Pesquisa Avançada\"\n",
    "def clicar_pesquisa_avancada(driver):\n",
    "    try:\n",
    "        wait = WebDriverWait(driver, 3)\n",
    "        pesquisa_avancada_button = wait.until(EC.element_to_be_clickable((By.ID, 'ckPesquisaAvancada-inputEl')))\n",
    "        pesquisa_avancada_button.click()\n",
    "        print(\"Clicou no botão 'Pesquisa Avançada'.\")\n",
    "        time.sleep(3)\n",
    "    except Exception as e:\n",
    "        print(f\"Erro ao clicar em 'Pesquisa Avançada': {str(e)}\")"
   ]
  },
  {
   "cell_type": "code",
   "execution_count": 7,
   "id": "f7ae8832-39c6-4a49-b81f-1a89cff6660e",
   "metadata": {},
   "outputs": [],
   "source": [
    "# Função para preencher o campo \"Grupo\"\n",
    "def preencher_grupo(driver, grupo):\n",
    "    try:\n",
    "        wait = WebDriverWait(driver, 3)\n",
    "        grupo_field = wait.until(EC.presence_of_element_located((By.ID, 'grupoCombo-inputEl')))\n",
    "        grupo_field.click()\n",
    "        grupo_field.clear()\n",
    "        grupo_field.send_keys(grupo)\n",
    "        time.sleep(3)\n",
    "        grupo_field.send_keys(Keys.RETURN)\n",
    "        print(f\"Preencheu o campo 'Grupo' com '{grupo}'.\")\n",
    "        time.sleep(3)\n",
    "    except Exception as e:\n",
    "        print(f\"Erro ao preencher o campo 'Grupo': {str(e)}\")"
   ]
  },
  {
   "cell_type": "code",
   "execution_count": 8,
   "id": "f17fc930-4019-43d6-b4bf-5d857d525804",
   "metadata": {},
   "outputs": [],
   "source": [
    "# Função para preencher o campo \"Modalidade\"\n",
    "def preencher_modalidade(driver, modalidade):\n",
    "    try:\n",
    "        wait = WebDriverWait(driver, 3)\n",
    "        modalidade_field = wait.until(EC.presence_of_element_located((By.ID, 'modalidadeCombo-inputEl')))\n",
    "        modalidade_field.click()\n",
    "        modalidade_field.clear()\n",
    "        modalidade_field.send_keys(modalidade)\n",
    "        time.sleep(3)\n",
    "        modalidade_field.send_keys(Keys.RETURN)\n",
    "        print(f\"Preencheu o campo 'Modalidade' com '{modalidade}'.\")\n",
    "        time.sleep(3)\n",
    "    except Exception as e:\n",
    "        print(f\"Erro ao preencher o campo 'Modalidade': {str(e)}\")"
   ]
  },
  {
   "cell_type": "code",
   "execution_count": 9,
   "id": "40bff672-4fd0-4504-b7a4-d87730528cd9",
   "metadata": {},
   "outputs": [],
   "source": [
    "# Função para clicar no botão \"Pesquisar\"\n",
    "def clicar_pesquisar(driver):\n",
    "    try:\n",
    "        wait = WebDriverWait(driver, 3)\n",
    "        botao_pesquisar = wait.until(EC.element_to_be_clickable((By.ID, 'botaoPesquisar_consultarProcessoLicenciamentoGrid-btnInnerEl')))\n",
    "        botao_pesquisar.click()\n",
    "        print(\"Clicou no botão 'Pesquisar'.\")\n",
    "        time.sleep(3)\n",
    "    except Exception as e:\n",
    "        print(f\"Erro ao clicar no botão 'Pesquisar': {str(e)}\")"
   ]
  },
  {
   "cell_type": "code",
   "execution_count": 10,
   "id": "5ec70165-b413-4415-bbba-bcc867e4d97a",
   "metadata": {},
   "outputs": [],
   "source": [
    "# Função para clicar na lupa correspondente\n",
    "def clicar_lupa(driver, index):\n",
    "    try:\n",
    "        wait = WebDriverWait(driver, 3)\n",
    "        lupa_icon = wait.until(EC.presence_of_element_located((By.XPATH, f\"(//img[@src='images/icon_exibir.png'])[{index}]\")))\n",
    "        lupa_icon.click()\n",
    "        time.sleep(3)\n",
    "        print(f\"Clicou no ícone da lupa {index}.\")\n",
    "    except TimeoutException:\n",
    "        print(f\"Erro: Lupa {index} não encontrada.\")\n",
    "        return False\n",
    "    return True"
   ]
  },
  {
   "cell_type": "code",
   "execution_count": 11,
   "id": "3d7ece50-ffe9-4544-a36b-43f588b6f113",
   "metadata": {},
   "outputs": [],
   "source": [
    "# Função para clicar no botão \"Visualizar Documento de Licença\"\n",
    "def clicar_visualizar_documento(driver):\n",
    "    try:\n",
    "        wait = WebDriverWait(driver, 3)\n",
    "        visualizar_documento_btn = wait.until(EC.element_to_be_clickable((By.ID, 'btnPesquisarGeradorResiduo-btnInnerEl')))\n",
    "        visualizar_documento_btn.click()\n",
    "        time.sleep(3) \n",
    "        print(\"Clicou em 'Visualizar Documento de Licença'.\")\n",
    "    except Exception as e:\n",
    "        print(f\"Erro ao clicar em 'Visualizar Documento de Licença': {str(e)}\")"
   ]
  },
  {
   "cell_type": "code",
   "execution_count": 12,
   "id": "3238a3c6-a203-43c1-8c10-199944a5fcec",
   "metadata": {},
   "outputs": [],
   "source": [
    "# Função para baixar a imagem do CAPTCHA\n",
    "def baixar_captcha(driver, index):\n",
    "    try:\n",
    "        captcha_element = driver.find_element(By.ID, \"gera_captcha\")\n",
    "        captcha_src = captcha_element.get_attribute(\"src\")\n",
    "        \n",
    "        if captcha_src.startswith('data:image/jpeg;base64,'):\n",
    "            captcha_base64 = captcha_src.replace('data:image/jpeg;base64,', '')\n",
    "        elif captcha_src.startswith('data:image/png;base64,'):\n",
    "            captcha_base64 = captcha_src.replace('data:image/png;base64,', '')\n",
    "        else:\n",
    "            raise ValueError(\"Formato de imagem não suportado\")\n",
    "        \n",
    "        captcha_path = os.path.join(captcha_dir, f\"captcha{index}.jpg\")\n",
    "        captcha_data = base64.b64decode(captcha_base64)\n",
    "        with open(captcha_path, \"wb\") as f:\n",
    "            f.write(captcha_data)\n",
    "\n",
    "        print(f\"Imagem do captcha {index} salva com sucesso.\")\n",
    "        return captcha_path\n",
    "\n",
    "    except Exception as e:\n",
    "        print(f\"Erro ao baixar o CAPTCHA {index}: {str(e)}\")\n",
    "        return None"
   ]
  },
  {
   "cell_type": "code",
   "execution_count": 13,
   "id": "d8d3fee2-986a-49ed-a5f0-de37a5864a7b",
   "metadata": {},
   "outputs": [],
   "source": [
    "# Função para resolver o CAPTCHA usando a API 2Captcha\n",
    "def resolver_captcha(captcha_path):\n",
    "    try:\n",
    "        result = solver.normal(captcha_path)\n",
    "        captcha_resolvido = result['code']\n",
    "        print(f\"Captcha resolvido: {captcha_resolvido}\")\n",
    "        return captcha_resolvido\n",
    "    except Exception as e:\n",
    "        print(f\"Erro ao resolver o CAPTCHA: {str(e)}\")\n",
    "        return None"
   ]
  },
  {
   "cell_type": "code",
   "execution_count": 14,
   "id": "7009b554-5bfa-44ae-bbab-5f7ef137ef65",
   "metadata": {},
   "outputs": [],
   "source": [
    "# Função para inserir o CAPTCHA e clicar no botão \"Continuar\"\n",
    "def inserir_captcha_e_continuar(driver, captcha_resolvido):\n",
    "    try:\n",
    "        wait = WebDriverWait(driver, 3)\n",
    "        captcha_input = wait.until(EC.presence_of_element_located((By.ID, 'captchaDigitada-inputEl')))\n",
    "        captcha_input.clear()\n",
    "        captcha_input.send_keys(captcha_resolvido)\n",
    "        print(\"Captcha inserido no campo de texto.\")\n",
    "        time.sleep(3)\n",
    "        \n",
    "        botao_continuar = wait.until(EC.element_to_be_clickable((By.ID, 'button-1057-btnInnerEl')))\n",
    "        botao_continuar.click()\n",
    "        print(\"Clicou no botão 'Continuar'.\")\n",
    "        \n",
    "        time.sleep(5)  # Aguarda para carregar a próxima página\n",
    "\n",
    "        # Verifica se a mensagem de erro de CAPTCHA aparece\n",
    "        mensagem_erro_captcha = driver.find_elements(By.XPATH, \"//div[@id='fileInfo-inputEl' and contains(text(), 'Ops..CAPTCHA  inválido')]\")\n",
    "        if mensagem_erro_captcha:\n",
    "            print(\"CAPTCHA incorreto, tentando novamente...\")\n",
    "            return False  # Indica que o CAPTCHA falhou\n",
    "        else:\n",
    "            print(\"CAPTCHA resolvido com sucesso.\")\n",
    "            return True  # CAPTCHA foi resolvido corretamente\n",
    "\n",
    "    except Exception as e:\n",
    "        print(f\"Erro ao inserir o CAPTCHA e continuar: {str(e)}\")\n",
    "        return False  # Em caso de erro, tenta de novo\n"
   ]
  },
  {
   "cell_type": "code",
   "execution_count": 15,
   "id": "ec570a0b-28f0-4a81-ad17-ea6eda4e3b59",
   "metadata": {},
   "outputs": [],
   "source": [
    "# Função para clicar no botão \"Pesquisar\"\n",
    "def clicar_pesquisar(driver):\n",
    "    try:\n",
    "        wait = WebDriverWait(driver, 3)\n",
    "        botao_pesquisar = wait.until(EC.element_to_be_clickable((By.ID, 'botaoPesquisar_consultarProcessoLicenciamentoGrid-btnInnerEl')))\n",
    "        botao_pesquisar.click()\n",
    "        print(\"Clicou no botão 'Pesquisar' novamente.\")\n",
    "        time.sleep(3)  # Tempo para garantir que a pesquisa seja concluída e as lupas apareçam\n",
    "    except Exception as e:\n",
    "        print(f\"Erro ao clicar no botão 'Pesquisar': {str(e)}\")"
   ]
  },
  {
   "cell_type": "code",
   "execution_count": 16,
   "id": "e2a68ae6-624e-41cf-a1a3-bf59238c4343",
   "metadata": {},
   "outputs": [],
   "source": [
    "# Função principal para processar as lupas e resolver os CAPTCHAs\n",
    "def processar_lupas(driver, num_lupas):\n",
    "    for i in range(1, num_lupas + 1):\n",
    "        try:\n",
    "            if not clicar_lupa(driver, i):\n",
    "                continue\n",
    "            \n",
    "            time.sleep(3)  # Espera pelo carregamento da nova página\n",
    "\n",
    "            # Clica no botão \"Visualizar Documento de Licença\"\n",
    "            clicar_visualizar_documento(driver)\n",
    "            \n",
    "            captcha_resolvido = False\n",
    "            while not captcha_resolvido:\n",
    "                # Baixa o CAPTCHA\n",
    "                captcha_path = baixar_captcha(driver, i)\n",
    "                if not captcha_path:\n",
    "                    continue\n",
    "                \n",
    "                # Resolve o CAPTCHA\n",
    "                captcha_resolvido_str = resolver_captcha(captcha_path)\n",
    "                if not captcha_resolvido_str:\n",
    "                    continue\n",
    "\n",
    "                time.sleep(3)\n",
    "\n",
    "                # Insere o CAPTCHA e tenta continuar\n",
    "                captcha_resolvido = inserir_captcha_e_continuar(driver, captcha_resolvido_str)\n",
    "                if not captcha_resolvido:\n",
    "                    print(\"Tentando resolver o CAPTCHA novamente...\")\n",
    "\n",
    "            time.sleep(3)\n",
    "\n",
    "            # Volta à página principal\n",
    "            driver.back()\n",
    "            print(f\"Retornou à página principal após processar a lupa {i}.\")\n",
    "            time.sleep(3)\n",
    "\n",
    "            # Clica no botão \"Pesquisar\" para recarregar as lupas\n",
    "            clicar_pesquisar(driver)\n",
    "\n",
    "        except Exception as e:\n",
    "            print(f\"Erro ao processar a lupa {i}: {str(e)}\")\n"
   ]
  },
  {
   "cell_type": "code",
   "execution_count": 17,
   "id": "dbee40b0-f74b-4068-bcd3-4afb505ce075",
   "metadata": {},
   "outputs": [],
   "source": [
    "# Função principal para iniciar o processo completo\n",
    "def processar_pesquisa_completa(url, grupo, modalidade, num_lupas):\n",
    "    driver = inicializar_navegador(url)\n",
    "    \n",
    "    try:\n",
    "        clicar_pesquisa_avancada(driver)\n",
    "        preencher_grupo(driver, grupo)\n",
    "        preencher_modalidade(driver, modalidade)\n",
    "        clicar_pesquisar(driver)\n",
    "        processar_lupas(driver, num_lupas)\n",
    "    \n",
    "    except Exception as e:\n",
    "        print(f\"Erro durante o processamento: {str(e)}\")\n",
    "    \n",
    "    finally:\n",
    "        # Fecha o navegador ao final do processo\n",
    "        driver.quit()\n",
    "        print(\"Navegador fechado.\")"
   ]
  },
  {
   "cell_type": "markdown",
   "id": "ba984d4b-d728-4931-b001-4439b93e1699",
   "metadata": {},
   "source": [
    "## 4 Execução"
   ]
  },
  {
   "cell_type": "code",
   "execution_count": 18,
   "id": "e81634af-3685-47d1-abaa-68f9dae413db",
   "metadata": {},
   "outputs": [],
   "source": [
    "# Executa a função principal para processar as lupas com os parâmetros necessários\n",
    "url = 'http://www.sga.pr.gov.br/sga-iap/consultarProcessoLicenciamento.do?action=iniciar#'\n",
    "grupo = 'Agropecuária'\n",
    "modalidade = 'LO - Licença de operação'"
   ]
  },
  {
   "cell_type": "code",
   "execution_count": 20,
   "id": "6d8f19a1-28fa-4cea-ad71-f134ff3eb349",
   "metadata": {},
   "outputs": [
    {
     "name": "stdout",
     "output_type": "stream",
     "text": [
      "Carregou o site: http://www.sga.pr.gov.br/sga-iap/consultarProcessoLicenciamento.do?action=iniciar#\n",
      "Clicou no botão 'Pesquisa Avançada'.\n",
      "Preencheu o campo 'Grupo' com 'Agropecuária'.\n",
      "Preencheu o campo 'Modalidade' com 'LO - Licença de operação'.\n",
      "Clicou no botão 'Pesquisar' novamente.\n",
      "Clicou no ícone da lupa 1.\n",
      "Clicou em 'Visualizar Documento de Licença'.\n",
      "Imagem do captcha 1 salva com sucesso.\n",
      "Captcha resolvido: 4dpou\n",
      "Captcha inserido no campo de texto.\n",
      "Clicou no botão 'Continuar'.\n",
      "CAPTCHA resolvido com sucesso.\n",
      "Retornou à página principal após processar a lupa 1.\n",
      "Clicou no botão 'Pesquisar' novamente.\n",
      "Clicou no ícone da lupa 2.\n",
      "Clicou em 'Visualizar Documento de Licença'.\n",
      "Imagem do captcha 2 salva com sucesso.\n",
      "Captcha resolvido: 1xdyo\n",
      "Navegador fechado.\n"
     ]
    },
    {
     "ename": "KeyboardInterrupt",
     "evalue": "",
     "output_type": "error",
     "traceback": [
      "\u001b[1;31m---------------------------------------------------------------------------\u001b[0m",
      "\u001b[1;31mKeyboardInterrupt\u001b[0m                         Traceback (most recent call last)",
      "Cell \u001b[1;32mIn[20], line 1\u001b[0m\n\u001b[1;32m----> 1\u001b[0m \u001b[43mprocessar_pesquisa_completa\u001b[49m\u001b[43m(\u001b[49m\u001b[43murl\u001b[49m\u001b[43m,\u001b[49m\u001b[43m \u001b[49m\u001b[43mgrupo\u001b[49m\u001b[43m,\u001b[49m\u001b[43m \u001b[49m\u001b[43mmodalidade\u001b[49m\u001b[43m,\u001b[49m\u001b[43m \u001b[49m\u001b[38;5;241;43m10\u001b[39;49m\u001b[43m)\u001b[49m\n",
      "Cell \u001b[1;32mIn[17], line 10\u001b[0m, in \u001b[0;36mprocessar_pesquisa_completa\u001b[1;34m(url, grupo, modalidade, num_lupas)\u001b[0m\n\u001b[0;32m      8\u001b[0m     preencher_modalidade(driver, modalidade)\n\u001b[0;32m      9\u001b[0m     clicar_pesquisar(driver)\n\u001b[1;32m---> 10\u001b[0m     \u001b[43mprocessar_lupas\u001b[49m\u001b[43m(\u001b[49m\u001b[43mdriver\u001b[49m\u001b[43m,\u001b[49m\u001b[43m \u001b[49m\u001b[43mnum_lupas\u001b[49m\u001b[43m)\u001b[49m\n\u001b[0;32m     12\u001b[0m \u001b[38;5;28;01mexcept\u001b[39;00m \u001b[38;5;167;01mException\u001b[39;00m \u001b[38;5;28;01mas\u001b[39;00m e:\n\u001b[0;32m     13\u001b[0m     \u001b[38;5;28mprint\u001b[39m(\u001b[38;5;124mf\u001b[39m\u001b[38;5;124m\"\u001b[39m\u001b[38;5;124mErro durante o processamento: \u001b[39m\u001b[38;5;132;01m{\u001b[39;00m\u001b[38;5;28mstr\u001b[39m(e)\u001b[38;5;132;01m}\u001b[39;00m\u001b[38;5;124m\"\u001b[39m)\n",
      "Cell \u001b[1;32mIn[16], line 25\u001b[0m, in \u001b[0;36mprocessar_lupas\u001b[1;34m(driver, num_lupas)\u001b[0m\n\u001b[0;32m     22\u001b[0m \u001b[38;5;28;01mif\u001b[39;00m \u001b[38;5;129;01mnot\u001b[39;00m captcha_resolvido_str:\n\u001b[0;32m     23\u001b[0m     \u001b[38;5;28;01mcontinue\u001b[39;00m\n\u001b[1;32m---> 25\u001b[0m \u001b[43mtime\u001b[49m\u001b[38;5;241;43m.\u001b[39;49m\u001b[43msleep\u001b[49m\u001b[43m(\u001b[49m\u001b[38;5;241;43m3\u001b[39;49m\u001b[43m)\u001b[49m\n\u001b[0;32m     27\u001b[0m \u001b[38;5;66;03m# Insere o CAPTCHA e tenta continuar\u001b[39;00m\n\u001b[0;32m     28\u001b[0m captcha_resolvido \u001b[38;5;241m=\u001b[39m inserir_captcha_e_continuar(driver, captcha_resolvido_str)\n",
      "\u001b[1;31mKeyboardInterrupt\u001b[0m: "
     ]
    }
   ],
   "source": [
    "processar_pesquisa_completa(url, grupo, modalidade, 10)"
   ]
  }
 ],
 "metadata": {
  "kernelspec": {
   "display_name": "Python 3",
   "language": "python",
   "name": "python3"
  },
  "language_info": {
   "codemirror_mode": {
    "name": "ipython",
    "version": 3
   },
   "file_extension": ".py",
   "mimetype": "text/x-python",
   "name": "python",
   "nbconvert_exporter": "python",
   "pygments_lexer": "ipython3",
   "version": "3.12.7"
  }
 },
 "nbformat": 4,
 "nbformat_minor": 5
}
